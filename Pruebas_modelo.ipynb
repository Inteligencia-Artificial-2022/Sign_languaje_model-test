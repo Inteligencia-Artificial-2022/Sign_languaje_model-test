{
 "cells": [
  {
   "cell_type": "code",
   "execution_count": 1,
   "id": "b943cbf5-8ad8-4607-988a-3a413831ad8d",
   "metadata": {},
   "outputs": [],
   "source": [
    "import tensorflow as tf\n",
    "import pickle\n",
    "import matplotlib.pyplot as plt\n",
    "import numpy as np"
   ]
  },
  {
   "cell_type": "code",
   "execution_count": 2,
   "id": "2fb72370-30ca-4281-8342-5a95288ede4a",
   "metadata": {},
   "outputs": [],
   "source": [
    "img_size = 100\n",
    "\n",
    "##CARGAMOS EL MODELO\n",
    "reload_model = tf.keras.models.load_model('IA_model')"
   ]
  },
  {
   "cell_type": "code",
   "execution_count": 3,
   "id": "112d3f79-33f4-4f26-b582-443fe6d0f9f3",
   "metadata": {},
   "outputs": [],
   "source": [
    "archivo_train_y = open('Data_source\\\\Datasets\\\\y_train.pickle', 'rb')\n",
    "data_train_y = pickle.load(archivo_train_y)\n",
    "y_train = np.asarray(data_train_y)\n",
    "archivo_train_y.close()\n",
    "\n",
    "##TEST\n",
    "archivo_test_x = open('Data_source\\\\Datasets\\\\x_test.pickle', 'rb')\n",
    "data_test_x = pickle.load(archivo_test_x)\n",
    "x_test = np.asarray(data_test_x).astype(float)/255.00\n",
    "archivo_test_x.close()\n",
    "\n",
    "archivo_test_y = open('Data_source\\\\Datasets\\\\y_test.pickle', 'rb')\n",
    "data_test_y = pickle.load(archivo_test_y)\n",
    "y_test = np.asarray(data_test_y)\n",
    "archivo_test_y.close()\n",
    "\n",
    "##CARGAMOS LOS ASCII DE LAS ETIQUETAS CON LAS QUE SE ENTRENÓ\n",
    "archivo_class = open('Data_source\\\\Datasets\\\\class.pickle', 'rb')\n",
    "data_class = pickle.load(archivo_class)\n",
    "z_class = np.asarray(data_class)\n",
    "archivo_class.close()"
   ]
  },
  {
   "cell_type": "code",
   "execution_count": 70,
   "id": "249d6241-51a1-4984-abbf-da0cd0b02b64",
   "metadata": {},
   "outputs": [],
   "source": [
    "Num_imagen = 0"
   ]
  },
  {
   "cell_type": "code",
   "execution_count": 71,
   "id": "d94c04cc-27dd-44be-8e6a-969586175cc6",
   "metadata": {},
   "outputs": [
    {
     "data": {
      "image/png": "[encoded data removed]",
      "text/plain": [
       "<Figure size 100x100 with 1 Axes>"
      ]
     },
     "metadata": {},
     "output_type": "display_data"
    }
   ],
   "source": [
    "##SELECCIONAMOS LA IMÁGEN (38)\n",
    "plt.figure(figsize = (1,1))\n",
    "plt.imshow(x_test[Num_imagen], cmap=\"gray\")\n",
    "plt.show()"
   ]
  },
  {
   "cell_type": "code",
   "execution_count": 72,
   "id": "c459140b-e173-4450-bc63-bf8a87d68906",
   "metadata": {},
   "outputs": [
    {
     "name": "stdout",
     "output_type": "stream",
     "text": [
      "1/1 [==============================] - 0s 15ms/step\n"
     ]
    }
   ],
   "source": [
    "##ENVIAMOS LA DATA QUE QUEREMOS PREDECIR\n",
    "imagen = x_test[Num_imagen].reshape(-1, img_size,img_size, 1) ##HACEMOS RESHAPE A LA IMÁGEN\n",
    "predictions = reload_model.predict(imagen) ##ENVIAMOS LA PREDICCIÓN"
   ]
  },
  {
   "cell_type": "code",
   "execution_count": 73,
   "id": "c0ba991f-b906-4dbf-9639-ce1ab81cb14a",
   "metadata": {},
   "outputs": [],
   "source": [
    "##HACEMOS EXPAND PARA AUMENTAR UNA DIMENSIÓN A LA IMÁGEN\n",
    "predictions = (np.expand_dims(predictions,0))"
   ]
  },
  {
   "cell_type": "code",
   "execution_count": 74,
   "id": "29f4fba6-3884-4474-863d-985de8ef1448",
   "metadata": {},
   "outputs": [
    {
     "data": {
      "text/plain": [
       "array([[2.0693123e-15, 3.0475993e-31, 9.9938369e-01, ..., 0.0000000e+00,\n",
       "        0.0000000e+00, 0.0000000e+00]], dtype=float32)"
      ]
     },
     "execution_count": 74,
     "metadata": {},
     "output_type": "execute_result"
    }
   ],
   "source": [
    "##OBSERVAMOS EL ARRAY DE PREDICTIONS SEGÚN LA CLASIFICACIÓN QUE LE DA A LA IMÁGEN\n",
    "predictions[0]"
   ]
  },
  {
   "cell_type": "code",
   "execution_count": 75,
   "id": "71a4b7c2-90af-47d2-bdfa-381c594ce3db",
   "metadata": {},
   "outputs": [],
   "source": [
    "##BUSCAMOS EL MAX DENTRO DEL ARRAY, QUE REPRESENTA EL NUMERO DE LA CATEGORIA DENTRO DE Y\n",
    "class_t = np.argmax(predictions[0])"
   ]
  },
  {
   "cell_type": "code",
   "execution_count": 76,
   "id": "bcfece5c-ad9b-4d78-8eb6-8bd2412b15b6",
   "metadata": {},
   "outputs": [],
   "source": [
    "##BUSCAMOS EL NÚMERO DE LA CATEGORIA DENTRO DE Y\n",
    "num_cat = np.argmax(y_train == class_t)"
   ]
  },
  {
   "cell_type": "code",
   "execution_count": 77,
   "id": "125ea876-fe2a-48c2-bd63-1796fba41126",
   "metadata": {},
   "outputs": [
    {
     "data": {
      "text/plain": [
       "0"
      ]
     },
     "execution_count": 77,
     "metadata": {},
     "output_type": "execute_result"
    }
   ],
   "source": [
    "num_cat"
   ]
  },
  {
   "cell_type": "code",
   "execution_count": 78,
   "id": "b2e78335-1a9b-4b1c-9492-5fb95a256d0c",
   "metadata": {},
   "outputs": [
    {
     "data": {
      "text/plain": [
       "'C'"
      ]
     },
     "execution_count": 78,
     "metadata": {},
     "output_type": "execute_result"
    }
   ],
   "source": [
    "##BUSCAMOS Y CONVERTIMOS EL ASCII DE LA CATEGORÍA \n",
    "chr(z_class[num_cat])"
   ]
  },
  {
   "cell_type": "code",
   "execution_count": null,
   "id": "09185866-4050-4319-8eaf-e7c241db1273",
   "metadata": {},
   "outputs": [],
   "source": []
  }
 ],
 "metadata": {
  "kernelspec": {
   "display_name": "Python 3 (ipykernel)",
   "language": "python",
   "name": "python3"
  },
  "language_info": {
   "codemirror_mode": {
    "name": "ipython",
    "version": 3
   },
   "file_extension": ".py",
   "mimetype": "text/x-python",
   "name": "python",
   "nbconvert_exporter": "python",
   "pygments_lexer": "ipython3",
   "version": "3.10.9"
  }
 },
 "nbformat": 4,
 "nbformat_minor": 5
}
